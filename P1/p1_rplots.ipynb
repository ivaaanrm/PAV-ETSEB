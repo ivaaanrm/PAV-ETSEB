{
 "cells": [
  {
   "cell_type": "code",
   "execution_count": null,
   "metadata": {},
   "outputs": [],
   "source": [
    "import matplotlib.pyplot as plt\n",
    "import soundfile as sf\n",
    "import pandas as pd\n",
    "import numpy as np"
   ]
  },
  {
   "cell_type": "code",
   "execution_count": null,
   "metadata": {},
   "outputs": [],
   "source": [
    "signal, fm = sf.read(\"task-edited.au\")\n",
    "t = np.arange(0, len(signal)) / fm  "
   ]
  },
  {
   "cell_type": "markdown",
   "metadata": {},
   "source": [
    "Obtenemos los datos de la potencia media, la amplitud media y la tasa de cruces por 0"
   ]
  },
  {
   "cell_type": "code",
   "execution_count": null,
   "metadata": {},
   "outputs": [],
   "source": [
    "datContent = [i.strip().split() for i in open(\"out.dat\").readlines()]\n",
    "\n",
    "power = [float(dat[1]) for dat in datContent]\n",
    "am = [float(dat[2]) for dat in datContent]\n",
    "zcr = [float(dat[3]) for dat in datContent]"
   ]
  },
  {
   "cell_type": "code",
   "execution_count": null,
   "metadata": {},
   "outputs": [],
   "source": [
    "\"\"\"\n",
    "Gráficas de los diferentes \n",
    "\"\"\"\n",
    "fig, axs = plt.subplots(4,1)\n",
    "fig.set_size_inches(10,10)\n",
    "axs[0].set_title(\"Señal original\")\n",
    "axs[0].set_ylabel(\"dB\")\n",
    "axs[0].set_xlabel(\"time\")\n",
    "axs[0].grid(True)\n",
    "axs[0].plot(t, signal)\n",
    "\n",
    "axs[1].set_title(\"Potencia media del señal\")\n",
    "axs[1].set_ylabel(\"dB\")\n",
    "axs[1].set_xlabel(\"samples\")\n",
    "axs[1].grid(True)\n",
    "axs[1].plot(power)\n",
    "\n",
    "axs[2].set_title(\"Amplitud media del señal\")\n",
    "axs[2].set_ylabel(\"\")\n",
    "axs[2].set_xlabel(\"samples\")\n",
    "axs[2].grid(True)\n",
    "axs[2].plot(am)\n",
    "\n",
    "axs[3].set_title(\"Tasa cruces por cero\")\n",
    "axs[3].set_ylabel(\"\")\n",
    "axs[3].set_xlabel(\"samples\")\n",
    "axs[3].grid(True)\n",
    "axs[3].plot(zcr)\n",
    "\n",
    "fig.tight_layout()\n",
    "plt.show()"
   ]
  },
  {
   "cell_type": "code",
   "execution_count": null,
   "metadata": {},
   "outputs": [],
   "source": [
    "fig.savefig('p1_results.png', dpi=400)"
   ]
  }
 ],
 "metadata": {
  "kernelspec": {
   "display_name": "Python 3.10.6 ('dev')",
   "language": "python",
   "name": "python3"
  },
  "language_info": {
   "codemirror_mode": {
    "name": "ipython",
    "version": 3
   },
   "file_extension": ".py",
   "mimetype": "text/x-python",
   "name": "python",
   "nbconvert_exporter": "python",
   "pygments_lexer": "ipython3",
   "version": "3.10.6"
  },
  "orig_nbformat": 4,
  "vscode": {
   "interpreter": {
    "hash": "86a17b2477ee5d441af78d5f2ed55bdbe2dcd2e687a4054b54f1aeabeacde211"
   }
  }
 },
 "nbformat": 4,
 "nbformat_minor": 2
}
